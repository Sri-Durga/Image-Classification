{
  "nbformat": 4,
  "nbformat_minor": 0,
  "metadata": {
    "colab": {
      "name": "Image Classification.ipynb",
      "provenance": [],
      "collapsed_sections": [],
      "mount_file_id": "1p3xSWM1WCzXFHhdiuNfONkkuVCgvFK_o",
      "authorship_tag": "ABX9TyPa+t+fZMw3ENSlTHW6GbIj",
      "include_colab_link": true
    },
    "kernelspec": {
      "name": "python3",
      "display_name": "Python 3"
    },
    "language_info": {
      "name": "python"
    }
  },
  "cells": [
    {
      "cell_type": "markdown",
      "metadata": {
        "id": "view-in-github",
        "colab_type": "text"
      },
      "source": [
        "<a href=\"https://colab.research.google.com/github/Sri-Durga/Mini-Project/blob/main/Image_Classification.ipynb\" target=\"_parent\"><img src=\"https://colab.research.google.com/assets/colab-badge.svg\" alt=\"Open In Colab\"/></a>"
      ]
    },
    {
      "cell_type": "markdown",
      "metadata": {
        "id": "0hQGECa9NhVg"
      },
      "source": [
        "**Gathering data**"
      ]
    },
    {
      "cell_type": "code",
      "metadata": {
        "id": "mffVsqG_Nbk3"
      },
      "source": [
        "# Drive link\n",
        "# https://drive.google.com/drive/folders/1Aus3KbHI8ZjQJC4DpEZiD8buw8rcJBmB?usp=sharing"
      ],
      "execution_count": null,
      "outputs": []
    },
    {
      "cell_type": "markdown",
      "metadata": {
        "id": "fdvJkIYyOWFp"
      },
      "source": [
        "**Dataset Preprocessing**"
      ]
    },
    {
      "cell_type": "code",
      "metadata": {
        "id": "hwG-jOHUOZCP"
      },
      "source": [
        "import os\n",
        "import numpy as np\n",
        "import pandas as pd\n",
        "import matplotlib.pyplot as plt\n",
        "from skimage.io import imread\n",
        "from skimage.transform import resize\n",
        "from skimage.color import rgb2gray\n",
        "\n",
        "dir = '/content/drive/MyDrive/Minor-Project/Images'\n",
        "\n",
        "categories =  ['AirPlanes', 'Bikes', 'Cars']\n",
        "target = []\n",
        "flat_data = []\n",
        "\n",
        "for x in categories:\n",
        "  i = categories.index(x)\n",
        "  path = os.path.join(dir, x)\n",
        "  for img in os.listdir(path):\n",
        "    img_arr = imread(os.path.join(path, img))\n",
        "    img_resize = resize(img_arr,(50,50,3))\n",
        "    img_resize = rgb2gray(img_resize)\n",
        "    flat_data.append(img_resize.flatten())\n",
        "    target.append(i)\n",
        "\n",
        "flat_data = np.array(flat_data)\n",
        "target = np.array(target)\n"
      ],
      "execution_count": 3,
      "outputs": []
    },
    {
      "cell_type": "markdown",
      "metadata": {
        "id": "tuM75dz3Qw5Y"
      },
      "source": [
        "**Bar graph for categories**"
      ]
    },
    {
      "cell_type": "code",
      "metadata": {
        "colab": {
          "base_uri": "https://localhost:8080/",
          "height": 282
        },
        "id": "3M4ymcDeQuxm",
        "outputId": "b90178d8-3d61-4605-9c47-ef8819259c96"
      },
      "source": [
        "ele, cnt = np.unique(target, return_counts=True)\n",
        "plt.bar(categories, cnt)\n"
      ],
      "execution_count": 4,
      "outputs": [
        {
          "output_type": "execute_result",
          "data": {
            "text/plain": [
              "<BarContainer object of 3 artists>"
            ]
          },
          "metadata": {
            "tags": []
          },
          "execution_count": 4
        },
        {
          "output_type": "display_data",
          "data": {
            "image/png": "[encoded data removed]",
            "text/plain": [
              "<Figure size 432x288 with 1 Axes>"
            ]
          },
          "metadata": {
            "tags": [],
            "needs_background": "light"
          }
        }
      ]
    },
    {
      "cell_type": "markdown",
      "metadata": {
        "id": "OmTMEU2wRUhf"
      },
      "source": [
        "**Splitting data**"
      ]
    },
    {
      "cell_type": "code",
      "metadata": {
        "id": "PM3Cj0-gRBRs"
      },
      "source": [
        "from sklearn.model_selection import train_test_split\n",
        "x_train, x_test, y_train, y_test = train_test_split(flat_data, target)\n"
      ],
      "execution_count": 5,
      "outputs": []
    },
    {
      "cell_type": "markdown",
      "metadata": {
        "id": "bDVYTZQ4Rouu"
      },
      "source": [
        "**Training and testing of the model**"
      ]
    },
    {
      "cell_type": "code",
      "metadata": {
        "colab": {
          "base_uri": "https://localhost:8080/"
        },
        "id": "TBWpdcXORoPc",
        "outputId": "f720a13e-fc06-4c0d-d791-ac9eb06b37d6"
      },
      "source": [
        "from sklearn.model_selection import GridSearchCV\n",
        "from sklearn import svm\n",
        "grid = [ {'C':[1,10,100,1000], 'kernel':['linear','rbf'], 'gamma':[0.001,0.0001]}]\n",
        "svc = svm.SVC(probability = True)\n",
        "clf = GridSearchCV(svc, grid)\n",
        "clf.fit(x_train, y_train)\n",
        "y_pred = clf.predict(x_test)\n",
        "y_pred"
      ],
      "execution_count": 6,
      "outputs": [
        {
          "output_type": "execute_result",
          "data": {
            "text/plain": [
              "array([1, 2, 0, 0, 2, 2, 0, 1, 2, 1, 0, 0, 1, 1, 0, 1, 2, 0, 0, 1, 2, 2,\n",
              "       1, 0, 0, 1, 1, 1, 1, 2, 1, 2, 0, 0, 1, 0, 1, 0, 1, 1, 1, 1, 0, 2,\n",
              "       2, 2, 2, 1, 0, 2, 0, 1, 0, 0, 0, 1, 1, 2, 1, 0, 0, 1, 1, 2, 0, 0,\n",
              "       1, 2, 2, 1, 0, 2, 1, 1, 0, 0, 0, 0, 0, 1, 1, 1, 2, 0, 0, 0, 0, 2,\n",
              "       1, 0, 2, 2, 0, 0, 2, 0, 2, 2, 2, 0, 0, 0, 2, 1, 0, 2, 0, 2, 0, 2,\n",
              "       1, 2, 1, 0, 0, 0, 2, 1, 0, 1, 2, 2, 2, 0, 1, 2, 2, 2, 1, 2, 1, 1,\n",
              "       2, 1, 2, 1, 0, 2, 0, 0, 0, 0, 2, 0, 1, 2, 2, 0, 0, 1, 1, 2, 0, 2,\n",
              "       1, 0, 0, 2, 0, 2, 0, 2, 2, 1, 2, 0, 1, 1, 0, 2, 0, 0, 1, 2, 2, 0,\n",
              "       2, 2, 1, 2, 2, 0, 0, 2, 2, 2, 0, 0, 0, 2, 0, 1, 0, 0, 1, 2, 1, 0,\n",
              "       1, 1, 2, 0, 1, 2, 2, 0, 1, 0, 1, 2, 2, 2, 2, 2, 2, 1, 2, 1, 0, 1,\n",
              "       2, 0, 2, 0, 0, 0, 2, 2, 2, 1, 2, 0, 1, 1, 2, 1, 2, 1, 1, 1, 2, 1,\n",
              "       2, 0, 2, 2, 0, 0, 1, 0, 0, 1, 0, 1, 0, 1, 2, 1, 0, 0, 1, 0, 2, 1,\n",
              "       0, 0, 0, 1, 0, 2, 0, 1, 2, 2, 1, 2, 2, 2, 2, 1, 1, 1, 0, 1, 2, 1,\n",
              "       1, 0, 1, 1, 0, 1, 1, 0, 0, 0, 1, 2, 2, 1])"
            ]
          },
          "metadata": {
            "tags": []
          },
          "execution_count": 6
        }
      ]
    },
    {
      "cell_type": "markdown",
      "metadata": {
        "id": "PWGwvXOFSy56"
      },
      "source": [
        "**Accuracy score**"
      ]
    },
    {
      "cell_type": "code",
      "metadata": {
        "colab": {
          "base_uri": "https://localhost:8080/"
        },
        "id": "uVS79_XwSwuX",
        "outputId": "f7bda2d5-3b1e-41ad-f33c-41a49a1ab199"
      },
      "source": [
        "from sklearn.metrics import accuracy_score\n",
        "accuracy_score(y_pred, y_test)"
      ],
      "execution_count": 7,
      "outputs": [
        {
          "output_type": "execute_result",
          "data": {
            "text/plain": [
              "0.9433333333333334"
            ]
          },
          "metadata": {
            "tags": []
          },
          "execution_count": 7
        }
      ]
    },
    {
      "cell_type": "markdown",
      "metadata": {
        "id": "A5U7aSEdTAoh"
      },
      "source": [
        "**Confusion matrix**"
      ]
    },
    {
      "cell_type": "code",
      "metadata": {
        "colab": {
          "base_uri": "https://localhost:8080/"
        },
        "id": "ckDrUyL9TMWR",
        "outputId": "f82056f1-f387-4352-dc18-5ce3e9faa0fb"
      },
      "source": [
        "from sklearn.metrics import confusion_matrix\n",
        "confusion_matrix(y_pred, y_test)"
      ],
      "execution_count": 8,
      "outputs": [
        {
          "output_type": "execute_result",
          "data": {
            "text/plain": [
              "array([[102,   1,   3],\n",
              "       [  7,  86,   2],\n",
              "       [  3,   1,  95]])"
            ]
          },
          "metadata": {
            "tags": []
          },
          "execution_count": 8
        }
      ]
    },
    {
      "cell_type": "markdown",
      "metadata": {
        "id": "SKbQEURtTWKl"
      },
      "source": [
        "**Plotting the confusion matrix**"
      ]
    },
    {
      "cell_type": "code",
      "metadata": {
        "colab": {
          "base_uri": "https://localhost:8080/",
          "height": 296
        },
        "id": "AEHG8449TaTf",
        "outputId": "25029556-7463-42d4-ac7b-1ef874bec706"
      },
      "source": [
        "from sklearn.metrics import plot_confusion_matrix\n",
        "plot_confusion_matrix(clf, x_test, y_test)\n"
      ],
      "execution_count": 9,
      "outputs": [
        {
          "output_type": "execute_result",
          "data": {
            "text/plain": [
              "<sklearn.metrics._plot.confusion_matrix.ConfusionMatrixDisplay at 0x7ff49e063a90>"
            ]
          },
          "metadata": {
            "tags": []
          },
          "execution_count": 9
        },
        {
          "output_type": "display_data",
          "data": {
            "image/png": "[encoded data removed]",
            "text/plain": [
              "<Figure size 432x288 with 2 Axes>"
            ]
          },
          "metadata": {
            "tags": [],
            "needs_background": "light"
          }
        }
      ]
    },
    {
      "cell_type": "markdown",
      "metadata": {
        "id": "3CuRknACUa7_"
      },
      "source": [
        "**Testing the model**"
      ]
    },
    {
      "cell_type": "code",
      "metadata": {
        "colab": {
          "base_uri": "https://localhost:8080/",
          "height": 318
        },
        "id": "suF8NERBUlu8",
        "outputId": "6b8cdb30-7d02-44a8-a299-fc42ef101db1"
      },
      "source": [
        "flat_data = []\n",
        "url = input(\"Enter url of the image: \")\n",
        "img = imread(url)\n",
        "img_resize = resize(img,(50,50,3))\n",
        "img_resize = rgb2gray(img_resize)\n",
        "flat_data.append(img_resize.flatten())\n",
        "flat_data = np.array(flat_data)\n",
        "print(img.shape)\n",
        "plt.imshow(img_resize)\n",
        "y_out = clf.predict(flat_data)\n",
        "y_out = categories[y_out[0]]\n",
        "print(f'Predicted output is : {y_out}')\n"
      ],
      "execution_count": 12,
      "outputs": [
        {
          "output_type": "stream",
          "text": [
            "Enter url of the image: https://image.freepik.com/free-vector/commercial-airplane-white-background_1308-22827.jpg\n",
            "(269, 626, 3)\n",
            "Predicted output is : AirPlanes\n"
          ],
          "name": "stdout"
        },
        {
          "output_type": "display_data",
          "data": {
            "image/png": "[encoded data removed]",
            "text/plain": [
              "<Figure size 432x288 with 1 Axes>"
            ]
          },
          "metadata": {
            "tags": [],
            "needs_background": "light"
          }
        }
      ]
    },
    {
      "cell_type": "code",
      "metadata": {
        "id": "nNZo1JQHVbqt"
      },
      "source": [
        ""
      ],
      "execution_count": null,
      "outputs": []
    }
  ]
}